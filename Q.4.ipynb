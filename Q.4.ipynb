{
 "cells": [
  {
   "cell_type": "code",
   "execution_count": 4,
   "id": "b49f5754-c8ce-44a0-b9f0-ce0c7ffe2e5b",
   "metadata": {},
   "outputs": [
    {
     "name": "stdin",
     "output_type": "stream",
     "text": [
      "enter any number: 150\n"
     ]
    },
    {
     "name": "stdout",
     "output_type": "stream",
     "text": [
      "3 times divided by 3\n"
     ]
    }
   ],
   "source": [
    "\"\"\"Check many times a given number can be divided by 3 before it is less than or equal to 10.\"\"\"\n",
    "num=int(input(\"enter any number:\"))\n",
    "i=0\n",
    "n=num\n",
    "while n!=0:\n",
    "   n=num//3\n",
    "   num=n\n",
    "   i=i+1\n",
    "   if num<=10:\n",
    "    break\n",
    "print(i,\"times divided by 3\")"
   ]
  },
  {
   "cell_type": "code",
   "execution_count": null,
   "id": "5f4d6571-40ef-43bc-b6bc-63d39c7faf54",
   "metadata": {},
   "outputs": [],
   "source": []
  }
 ],
 "metadata": {
  "kernelspec": {
   "display_name": "Python 3 (ipykernel)",
   "language": "python",
   "name": "python3"
  },
  "language_info": {
   "codemirror_mode": {
    "name": "ipython",
    "version": 3
   },
   "file_extension": ".py",
   "mimetype": "text/x-python",
   "name": "python",
   "nbconvert_exporter": "python",
   "pygments_lexer": "ipython3",
   "version": "3.10.8"
  }
 },
 "nbformat": 4,
 "nbformat_minor": 5
}
