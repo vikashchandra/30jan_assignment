{
 "cells": [
  {
   "cell_type": "code",
   "execution_count": 4,
   "id": "c77a45c5-c1dd-4015-a171-9b61b76c49eb",
   "metadata": {},
   "outputs": [
    {
     "name": "stdin",
     "output_type": "stream",
     "text": [
      "Enter the city name in given below\n",
      " Delhi,Agra,Jaipur\n",
      " Agra\n"
     ]
    },
    {
     "name": "stdout",
     "output_type": "stream",
     "text": [
      "Taj mahal\n"
     ]
    }
   ],
   "source": [
    "\"\"\"Q.3. Accept any city from the user and display monuments of that city.\"\"\"\n",
    "city=input(\"Enter the city name in given below\\n Delhi,Agra,Jaipur\\n\")\n",
    "if city=='Delhi':\n",
    "    print(\"Red fort\")\n",
    "elif city=='Agra':\n",
    "    print(\"Taj mahal\")\n",
    "elif city=='Jaipur':\n",
    "    print(\"Jal mahal\")\n",
    "else:\n",
    "    print(\"Qwrong entry!\")"
   ]
  },
  {
   "cell_type": "code",
   "execution_count": null,
   "id": "1d1c9564-405f-4a5d-a37a-aa9953e7fdac",
   "metadata": {},
   "outputs": [],
   "source": []
  }
 ],
 "metadata": {
  "kernelspec": {
   "display_name": "Python 3 (ipykernel)",
   "language": "python",
   "name": "python3"
  },
  "language_info": {
   "codemirror_mode": {
    "name": "ipython",
    "version": 3
   },
   "file_extension": ".py",
   "mimetype": "text/x-python",
   "name": "python",
   "nbconvert_exporter": "python",
   "pygments_lexer": "ipython3",
   "version": "3.10.8"
  }
 },
 "nbformat": 4,
 "nbformat_minor": 5
}
