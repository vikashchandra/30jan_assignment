{
 "cells": [
  {
   "cell_type": "code",
   "execution_count": 4,
   "id": "01fc7d4e-9a88-4f24-a108-4bce183099dd",
   "metadata": {},
   "outputs": [
    {
     "name": "stdin",
     "output_type": "stream",
     "text": [
      "Enter the cost price of bike: 45000\n"
     ]
    },
    {
     "name": "stdout",
     "output_type": "stream",
     "text": [
      "Road tax: 2250.0\n"
     ]
    }
   ],
   "source": [
    "\"\"\"Q.2.write a program to accept the cost p[rice of a bike and display the road tax to be paid according to the following criteria:\"\"\"\n",
    "price=float(input(\"Enter the cost price of bike:\"))\n",
    "if price>100000:\n",
    "    print(\"Road tax:\",(price*15)/100)\n",
    "elif price>50000 and price<=100000:\n",
    "    print(\"Road tax:\",(price*10)/100)\n",
    "elif price<50000:\n",
    "    print(\"Road tax:\",(price*5)/100)\n",
    "    "
   ]
  },
  {
   "cell_type": "code",
   "execution_count": null,
   "id": "65fda3fb-0b02-4740-b0af-72d1d63e37e4",
   "metadata": {},
   "outputs": [],
   "source": []
  }
 ],
 "metadata": {
  "kernelspec": {
   "display_name": "Python 3 (ipykernel)",
   "language": "python",
   "name": "python3"
  },
  "language_info": {
   "codemirror_mode": {
    "name": "ipython",
    "version": 3
   },
   "file_extension": ".py",
   "mimetype": "text/x-python",
   "name": "python",
   "nbconvert_exporter": "python",
   "pygments_lexer": "ipython3",
   "version": "3.10.8"
  }
 },
 "nbformat": 4,
 "nbformat_minor": 5
}
