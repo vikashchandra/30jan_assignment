{
 "cells": [
  {
   "cell_type": "code",
   "execution_count": 4,
   "id": "0342c4b7-aa5e-4474-ac4e-8845ccf389dd",
   "metadata": {},
   "outputs": [
    {
     "name": "stdin",
     "output_type": "stream",
     "text": [
      "Enter your percentage: 78\n"
     ]
    },
    {
     "name": "stdout",
     "output_type": "stream",
     "text": [
      "C grade\n"
     ]
    }
   ],
   "source": [
    "\"\"\"Q.1. Write a program to accept percentage from the user and display the grade according to the following criteria:\"\"\"\n",
    "a=float(input(\"Enter your percentage:\"))\n",
    "if a>90:\n",
    "    print(\"A grade\")\n",
    "elif a>80 and a<=90:\n",
    "    print(\"B grade\")\n",
    "elif a>=60 and a<=80:\n",
    "    print(\"C grade\")\n",
    "else:\n",
    "    print(\"D grade\")"
   ]
  },
  {
   "cell_type": "code",
   "execution_count": null,
   "id": "a035d483-c37f-42aa-943b-dc7442914add",
   "metadata": {},
   "outputs": [],
   "source": []
  }
 ],
 "metadata": {
  "kernelspec": {
   "display_name": "Python 3 (ipykernel)",
   "language": "python",
   "name": "python3"
  },
  "language_info": {
   "codemirror_mode": {
    "name": "ipython",
    "version": 3
   },
   "file_extension": ".py",
   "mimetype": "text/x-python",
   "name": "python",
   "nbconvert_exporter": "python",
   "pygments_lexer": "ipython3",
   "version": "3.10.8"
  }
 },
 "nbformat": 4,
 "nbformat_minor": 5
}
